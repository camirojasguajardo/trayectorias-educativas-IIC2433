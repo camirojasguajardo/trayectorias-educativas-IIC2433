{
 "cells": [
  {
   "cell_type": "code",
   "execution_count": 4,
   "id": "0987a2f4",
   "metadata": {},
   "outputs": [],
   "source": [
    "import pandas as pd\n",
    "import os"
   ]
  },
  {
   "cell_type": "code",
   "execution_count": 23,
   "id": "d520ac8f",
   "metadata": {},
   "outputs": [
    {
     "data": {
      "text/plain": [
       "Index(['MRUN', 'ANYO_PROCESO', 'COD_SEXO', 'FECHA_NACIMIENTO', 'RBD',\n",
       "       'CODIGO_ENS', 'LOCAL_EDUCACIONAL', 'UNIDAD_EDUCATIVA',\n",
       "       'NOMBRE_UNIDAD_EDUC', 'RAMA_EDUCACIONAL',\n",
       "       ...\n",
       "       'PRUEBA_INV_CQUI', 'FORMA_INV_CQUI', 'CORRECTAS_INV_CQUI',\n",
       "       'ERRADAS_INV_CQUI', 'OMITIDAS_INV_CQUI', 'PRUEBA_INV_CTP',\n",
       "       'FORMA_INV_CTP', 'CORRECTAS_INV_CTP', 'ERRADAS_INV_CTP',\n",
       "       'OMITIDAS_INV_CTP'],\n",
       "      dtype='object', length=131)"
      ]
     },
     "execution_count": 23,
     "metadata": {},
     "output_type": "execute_result"
    }
   ],
   "source": [
    "inscritos_paes.columns"
   ]
  },
  {
   "cell_type": "code",
   "execution_count": 14,
   "id": "d2d8f110",
   "metadata": {},
   "outputs": [
    {
     "name": "stdout",
     "output_type": "stream",
     "text": [
      "Downloading...\n",
      "From: https://drive.google.com/uc?id=1K2x7h40Qo8-Opf33NG-pu-N_7P8Ct22X\n",
      "To: /Users/camilarojasguajardo/Desktop/Magister/trayectorias-educativas-IIC2433/data/2025/matricula.csv\n",
      "100%|██████████████████████████████████████| 10.3M/10.3M [00:00<00:00, 44.0MB/s]\n",
      "Downloading...\n",
      "From (original): https://drive.google.com/uc?id=17x58DlMIFiKaSxzR8H2C3vsZBXN11FdA\n",
      "From (redirected): https://drive.google.com/uc?id=17x58DlMIFiKaSxzR8H2C3vsZBXN11FdA&confirm=t&uuid=0870886f-5075-4cbb-b793-56c8043a4f67\n",
      "To: /Users/camilarojasguajardo/Desktop/Magister/trayectorias-educativas-IIC2433/data/2025/inscritos_paes.csv\n",
      "100%|████████████████████████████████████████| 234M/234M [00:03<00:00, 61.6MB/s]\n",
      "Downloading...\n",
      "From: https://drive.google.com/uc?id=1SXsx0gFqDxW7c_JVNaXB7LSzO4M1Pxe2\n",
      "To: /Users/camilarojasguajardo/Desktop/Magister/trayectorias-educativas-IIC2433/data/2025/socioeconomico.csv\n",
      "100%|██████████████████████████████████████| 15.2M/15.2M [00:00<00:00, 46.9MB/s]\n"
     ]
    }
   ],
   "source": [
    "!gdown 1K2x7h40Qo8-Opf33NG-pu-N_7P8Ct22X -O data/2025/matricula.csv\n",
    "!gdown 17x58DlMIFiKaSxzR8H2C3vsZBXN11FdA -O data/2025/inscritos_paes.csv\n",
    "!gdown 1SXsx0gFqDxW7c_JVNaXB7LSzO4M1Pxe2 -O data/2025/socioeconomico.csv"
   ]
  },
  {
   "cell_type": "code",
   "execution_count": 15,
   "id": "f0d8e9c6",
   "metadata": {},
   "outputs": [
    {
     "name": "stdout",
     "output_type": "stream",
     "text": [
      "Downloading...\n",
      "From: https://drive.google.com/uc?id=1qSxLAKr4rgqTngzIKlXzkyTk_KPlG8jJ\n",
      "To: /Users/camilarojasguajardo/Desktop/Magister/trayectorias-educativas-IIC2433/data/2024/matricula.csv\n",
      "100%|██████████████████████████████████████| 10.0M/10.0M [00:00<00:00, 46.7MB/s]\n",
      "Downloading...\n",
      "From (original): https://drive.google.com/uc?id=1nykvZqBNpfrZqgPnQaHOZYvBVQV_TiOH\n",
      "From (redirected): https://drive.google.com/uc?id=1nykvZqBNpfrZqgPnQaHOZYvBVQV_TiOH&confirm=t&uuid=a3891fdc-c88f-48c2-972e-696c373c5cd5\n",
      "To: /Users/camilarojasguajardo/Desktop/Magister/trayectorias-educativas-IIC2433/data/2024/inscritos_paes.csv\n",
      "100%|████████████████████████████████████████| 231M/231M [00:03<00:00, 61.7MB/s]\n",
      "Downloading...\n",
      "From: https://drive.google.com/uc?id=1ogM79CizYxzriuUmKjLWKqDBgfVALay3\n",
      "To: /Users/camilarojasguajardo/Desktop/Magister/trayectorias-educativas-IIC2433/data/2024/socioeconomico.csv\n",
      "100%|██████████████████████████████████████| 15.2M/15.2M [00:00<00:00, 50.4MB/s]\n"
     ]
    }
   ],
   "source": [
    "!gdown 1qSxLAKr4rgqTngzIKlXzkyTk_KPlG8jJ -O data/2024/matricula.csv\n",
    "!gdown 1nykvZqBNpfrZqgPnQaHOZYvBVQV_TiOH -O data/2024/inscritos_paes.csv\n",
    "!gdown 1ogM79CizYxzriuUmKjLWKqDBgfVALay3 -O data/2024/socioeconomico.csv"
   ]
  },
  {
   "cell_type": "code",
   "execution_count": 16,
   "id": "50c60560",
   "metadata": {},
   "outputs": [
    {
     "name": "stdout",
     "output_type": "stream",
     "text": [
      "Downloading...\n",
      "From: https://drive.google.com/uc?id=15G8TlKOCE2_qJpfsXTCej9uW-_up9Aml\n",
      "To: /Users/camilarojasguajardo/Desktop/Magister/trayectorias-educativas-IIC2433/data/2023/matricula.csv\n",
      "100%|██████████████████████████████████████| 13.6M/13.6M [00:00<00:00, 44.2MB/s]\n",
      "Downloading...\n",
      "From (original): https://drive.google.com/uc?id=18j_8Uk-MicS857woAtWfI7FZemQRMI8j\n",
      "From (redirected): https://drive.google.com/uc?id=18j_8Uk-MicS857woAtWfI7FZemQRMI8j&confirm=t&uuid=67804542-ffc0-4f7b-bc86-bd924b7c2062\n",
      "To: /Users/camilarojasguajardo/Desktop/Magister/trayectorias-educativas-IIC2433/data/2023/inscritos_paes.csv\n",
      "100%|████████████████████████████████████████| 202M/202M [00:03<00:00, 58.3MB/s]\n",
      "Downloading...\n",
      "From: https://drive.google.com/uc?id=12r8ZxHrq0MwMiGZU2WJxs3BBipWk62ST\n",
      "To: /Users/camilarojasguajardo/Desktop/Magister/trayectorias-educativas-IIC2433/data/2023/socioeconomico.csv\n",
      "100%|██████████████████████████████████████| 31.8M/31.8M [00:00<00:00, 54.8MB/s]\n"
     ]
    }
   ],
   "source": [
    "!gdown 15G8TlKOCE2_qJpfsXTCej9uW-_up9Aml -O data/2023/matricula.csv\n",
    "!gdown 18j_8Uk-MicS857woAtWfI7FZemQRMI8j -O data/2023/inscritos_paes.csv\n",
    "!gdown 12r8ZxHrq0MwMiGZU2WJxs3BBipWk62ST -O data/2023/socioeconomico.csv"
   ]
  },
  {
   "cell_type": "code",
   "execution_count": 17,
   "id": "4e54eec7",
   "metadata": {},
   "outputs": [
    {
     "name": "stdout",
     "output_type": "stream",
     "text": [
      "Downloading...\n",
      "From: https://drive.google.com/uc?id=1bWosYMr4-sr-Xe1skaOQUn_y5enDBaUj\n",
      "To: /Users/camilarojasguajardo/Desktop/Magister/trayectorias-educativas-IIC2433/data/2022/matricula.csv\n",
      "100%|██████████████████████████████████████| 12.1M/12.1M [00:00<00:00, 21.4MB/s]\n",
      "Downloading...\n",
      "From (original): https://drive.google.com/uc?id=1DDBC_9YSM19JiotME7ZBNfy3p8yaNT_Y\n",
      "From (redirected): https://drive.google.com/uc?id=1DDBC_9YSM19JiotME7ZBNfy3p8yaNT_Y&confirm=t&uuid=2897ff79-7913-4cad-87b9-19b5c6c51d98\n",
      "To: /Users/camilarojasguajardo/Desktop/Magister/trayectorias-educativas-IIC2433/data/2022/inscritos_pdt.csv\n",
      "100%|████████████████████████████████████████| 114M/114M [00:01<00:00, 58.7MB/s]\n",
      "Downloading...\n",
      "From: https://drive.google.com/uc?id=1bWosYMr4-sr-Xe1skaOQUn_y5enDBaUj\n",
      "To: /Users/camilarojasguajardo/Desktop/Magister/trayectorias-educativas-IIC2433/data/2022/socioeconomico.csv\n",
      "100%|██████████████████████████████████████| 12.1M/12.1M [00:00<00:00, 47.7MB/s]\n"
     ]
    }
   ],
   "source": [
    "!gdown 1bWosYMr4-sr-Xe1skaOQUn_y5enDBaUj -O data/2022/matricula.csv\n",
    "!gdown 1DDBC_9YSM19JiotME7ZBNfy3p8yaNT_Y -O data/2022/inscritos_pdt.csv\n",
    "!gdown 1bWosYMr4-sr-Xe1skaOQUn_y5enDBaUj -O data/2022/socioeconomico.csv"
   ]
  },
  {
   "cell_type": "code",
   "execution_count": 18,
   "id": "4c9b0146",
   "metadata": {},
   "outputs": [
    {
     "name": "stdout",
     "output_type": "stream",
     "text": [
      "Downloading...\n",
      "From: https://drive.google.com/uc?id=1I4qRJ7HNOeDF2NLNIo6wtD1zmKZ6B0nA\n",
      "To: /Users/camilarojasguajardo/Desktop/Magister/trayectorias-educativas-IIC2433/data/2021/matricula.csv\n",
      "100%|██████████████████████████████████████| 10.8M/10.8M [00:00<00:00, 33.8MB/s]\n",
      "Downloading...\n",
      "From (original): https://drive.google.com/uc?id=11dfG8fKBlTJYLoqwv2-X5MF2l2PcHwTO\n",
      "From (redirected): https://drive.google.com/uc?id=11dfG8fKBlTJYLoqwv2-X5MF2l2PcHwTO&confirm=t&uuid=062c133e-9998-4f71-9e97-d7494347d0d2\n",
      "To: /Users/camilarojasguajardo/Desktop/Magister/trayectorias-educativas-IIC2433/data/2021/inscritos_pdt.csv\n",
      "100%|████████████████████████████████████████| 111M/111M [00:01<00:00, 56.0MB/s]\n",
      "Downloading...\n",
      "From: https://drive.google.com/uc?id=1LbKtqSv_G0wsj_qTC-5H48DKdze_yjek\n",
      "To: /Users/camilarojasguajardo/Desktop/Magister/trayectorias-educativas-IIC2433/data/2021/socioeconomico.csv\n",
      "100%|██████████████████████████████████████| 46.6M/46.6M [00:00<00:00, 56.4MB/s]\n"
     ]
    }
   ],
   "source": [
    "!gdown 1I4qRJ7HNOeDF2NLNIo6wtD1zmKZ6B0nA -O data/2021/matricula.csv\n",
    "!gdown 11dfG8fKBlTJYLoqwv2-X5MF2l2PcHwTO -O data/2021/inscritos_pdt.csv\n",
    "!gdown 1LbKtqSv_G0wsj_qTC-5H48DKdze_yjek -O data/2021/socioeconomico.csv"
   ]
  },
  {
   "cell_type": "markdown",
   "id": "f45f5b9c",
   "metadata": {},
   "source": [
    "Original data loading"
   ]
  },
  {
   "cell_type": "code",
   "execution_count": 30,
   "id": "004882a1",
   "metadata": {},
   "outputs": [
    {
     "name": "stdout",
     "output_type": "stream",
     "text": [
      "2024\n",
      "['MRUN', 'ANYO_PROCESO', 'CODIGO_CARRERA', 'NOMBRE_CARRERA', 'SEDE', 'SIGLA_UNIVERSIDAD', 'PREFERENCIA', 'PUNTAJE_PONDERADO', 'LUGAR_EN_LA_LISTA', 'VIA_INGRESO']\n"
     ]
    },
    {
     "name": "stderr",
     "output_type": "stream",
     "text": [
      "/var/folders/pc/1tbslm8954q5q5cyk947n34h0000gn/T/ipykernel_54965/3121807007.py:13: DtypeWarning: Columns (17,22,23,24,25,26) have mixed types. Specify dtype option on import or set low_memory=False.\n",
      "  inscritos = pd.read_csv(os.path.join(folder, \"inscritos_paes.csv\"), sep=\";\")\n"
     ]
    },
    {
     "name": "stdout",
     "output_type": "stream",
     "text": [
      "['MRUN', 'ANYO_PROCESO', 'COD_SEXO', 'FECHA_NACIMIENTO', 'RBD', 'CODIGO_ENS', 'LOCAL_EDUCACIONAL', 'UNIDAD_EDUCATIVA', 'NOMBRE_UNIDAD_EDUC', 'RAMA_EDUCACIONAL', 'DEPENDENCIA', 'CODIGO_REGION_EGRESO', 'NOMBRE_REGION_EGRESO', 'CODIGO_PROVINCIA_EGRESO', 'NOMBRE_PROVINCIA_EGRESO', 'CODIGO_COMUNA_EGRESO', 'NOMBRE_COMUNA_EGRESO', 'ANYO_DE_EGRESO', 'PROMEDIO_NOTAS', 'PTJE_NEM', 'PORC_SUP_NOTAS', 'PTJE_RANKING', 'CLEC_REG_ACTUAL', 'MATE1_REG_ACTUAL', 'MATE2_REG_ACTUAL', 'HCSOC_REG_ACTUAL', 'CIEN_REG_ACTUAL', 'CLEC_INV_ACTUAL', 'MATE1_INV_ACTUAL', 'MATE2_INV_ACTUAL', 'HCSOC_INV_ACTUAL', 'CIEN_INV_ACTUAL', 'CLEC_REG_ANTERIOR', 'MATE1_REG_ANTERIOR', 'MATE2_REG_ANTERIOR', 'HCSOC_REG_ANTERIOR', 'CIEN_REG_ANTERIOR', 'CLEC_INV_ANTERIOR', 'MATE_INV_ANTERIOR', 'HCSOC_INV_ANTERIOR', 'CIEN_INV_ANTERIOR', 'PROMEDIO_CM_MAX', 'CLEC_MAX', 'MATE1_MAX', 'MATE2_MAX', 'HCSOC_MAX', 'CIEN_MAX', 'RINDIO_PROCESO_ANTERIOR', 'RINDIO_PROCESO_ACTUAL', 'HABILITACION_POST', 'PRUEBA_REG_CL', 'FORMA_REG_CL', 'CORRECTAS_REG_CL', 'ERRADAS_REG_CL', 'OMITIDAS_REG_CL', 'PRUEBA_REG_M1', 'FORMA_REG_M1', 'CORRECTAS_REG_M1', 'ERRADAS_REG_M1', 'OMITIDAS_REG_M1', 'PRUEBA_REG_M2', 'FORMA_REG_M2', 'CORRECTAS_REG_M2', 'ERRADAS_REG_M2', 'OMITIDAS_REG_M2', 'PRUEBA_REG_HCS', 'FORMA_REG_HCS', 'CORRECTAS_REG_HCS', 'ERRADAS_REG_HCS', 'OMITIDAS_REG_HCS', 'PRUEBA_REG_CBIO', 'FORMA_REG_CBIO', 'CORRECTAS_REG_CBIO', 'ERRADAS_REG_CBIO', 'OMITIDAS_REG_CBIO', 'PRUEBA_REG_CFIS', 'FORMA_REG_CFIS', 'CORRECTAS_REG_CFIS', 'ERRADAS_REG_CFIS', 'OMITIDAS_REG_CFIS', 'PRUEBA_REG_CQUI', 'FORMA_REG_CQUI', 'CORRECTAS_REG_CQUI', 'ERRADAS_REG_CQUI', 'OMITIDAS_REG_CQUI', 'PRUEBA_REG_CTP', 'FORMA_REG_CTP', 'CORRECTAS_REG_CTP', 'ERRADAS_REG_CTP', 'OMITIDAS_REG_CTP', 'PRUEBA_INV_CL', 'FORMA_INV_CL', 'CORRECTAS_INV_CL', 'ERRADAS_INV_CL', 'OMITIDAS_INV_CL', 'PRUEBA_INV_M1', 'FORMA_INV_M1', 'CORRECTAS_INV_M1', 'ERRADAS_INV_M1', 'OMITIDAS_INV_M1', 'PRUEBA_INV_M2', 'FORMA_INV_M2', 'CORRECTAS_INV_M2', 'ERRADAS_INV_M2', 'OMITIDAS_INV_M2', 'PRUEBA_INV_HCS', 'FORMA_INV_HCS', 'CORRECTAS_INV_HCS', 'ERRADAS_INV_HCS', 'OMITIDAS_INV_HCS', 'PRUEBA_INV_CBIO', 'FORMA_INV_CBIO', 'CORRECTAS_INV_CBIO', 'ERRADAS_INV_CBIO', 'OMITIDAS_INV_CBIO', 'PRUEBA_INV_CFIS', 'FORMA_INV_CFIS', 'CORRECTAS_INV_CFIS', 'ERRADAS_INV_CFIS', 'OMITIDAS_INV_CFIS', 'PRUEBA_INV_CQUI', 'FORMA_INV_CQUI', 'CORRECTAS_INV_CQUI', 'ERRADAS_INV_CQUI', 'OMITIDAS_INV_CQUI', 'PRUEBA_INV_CTP', 'FORMA_INV_CTP', 'CORRECTAS_INV_CTP', 'ERRADAS_INV_CTP', 'OMITIDAS_INV_CTP']\n",
      "['MRUN', 'ANYO_PROCESO', 'CODIGO_REGION_DOMICILIO', 'CODIGO_PROVINCIA_DOMICILIO', 'CODIGO_COMUNA_DOMICILIO', 'NOMBRE_COMUNA_DOMICILIO', 'SEXO', 'FECHA_NACIMIENTO', 'INGRESO_PERCAPITA_GRUPO_FA', 'RAZON_PRINCIPAL_PAES']\n",
      "2025\n",
      "['MRUN', 'ANYO_PROCESO', 'CODIGO_CARRERA', 'NOMBRE_CARRERA', 'SEDE', 'SIGLA_UNIVERSIDAD', 'PREFERENCIA', 'PUNTAJE_PONDERADO', 'LUGAR_EN_LA_LISTA', 'VIA_INGRESO']\n"
     ]
    },
    {
     "name": "stderr",
     "output_type": "stream",
     "text": [
      "/var/folders/pc/1tbslm8954q5q5cyk947n34h0000gn/T/ipykernel_54965/3121807007.py:13: DtypeWarning: Columns (17) have mixed types. Specify dtype option on import or set low_memory=False.\n",
      "  inscritos = pd.read_csv(os.path.join(folder, \"inscritos_paes.csv\"), sep=\";\")\n"
     ]
    },
    {
     "name": "stdout",
     "output_type": "stream",
     "text": [
      "['MRUN', 'ANYO_PROCESO', 'COD_SEXO', 'FECHA_NACIMIENTO', 'RBD', 'CODIGO_ENS', 'LOCAL_EDUCACIONAL', 'UNIDAD_EDUCATIVA', 'NOMBRE_UNIDAD_EDUC', 'RAMA_EDUCACIONAL', 'DEPENDENCIA', 'CODIGO_REGION_EGRESO', 'NOMBRE_REGION_EGRESO', 'CODIGO_PROVINCIA_EGRESO', 'NOMBRE_PROVINCIA_EGRESO', 'CODIGO_COMUNA_EGRESO', 'NOMBRE_COMUNA_EGRESO', 'ANYO_DE_EGRESO', 'PROMEDIO_NOTAS', 'PTJE_NEM', 'PORC_SUP_NOTAS', 'PTJE_RANKING', 'CLEC_REG_ACTUAL', 'MATE1_REG_ACTUAL', 'MATE2_REG_ACTUAL', 'HCSOC_REG_ACTUAL', 'CIEN_REG_ACTUAL', 'CLEC_INV_ACTUAL', 'MATE1_INV_ACTUAL', 'MATE2_INV_ACTUAL', 'HCSOC_INV_ACTUAL', 'CIEN_INV_ACTUAL', 'CLEC_REG_ANTERIOR', 'MATE1_REG_ANTERIOR', 'MATE2_REG_ANTERIOR', 'HCSOC_REG_ANTERIOR', 'CIEN_REG_ANTERIOR', 'CLEC_INV_ANTERIOR', 'MATE1_INV_ANTERIOR', 'MATE2_INV_ANTERIOR', 'HCSOC_INV_ANTERIOR', 'CIEN_INV_ANTERIOR', 'PROMEDIO_CM_MAX', 'CLEC_MAX', 'MATE1_MAX', 'MATE2_MAX', 'HCSOC_MAX', 'CIEN_MAX', 'RINDIO_PROCESO_ANTERIOR', 'RINDIO_PROCESO_ACTUAL', 'HABILITACION_POST', 'PRUEBA_REG_CL', 'FORMA_REG_CL', 'CORRECTAS_REG_CL', 'ERRADAS_REG_CL', 'OMITIDAS_REG_CL', 'PRUEBA_REG_M1', 'FORMA_REG_M1', 'CORRECTAS_REG_M1', 'ERRADAS_REG_M1', 'OMITIDAS_REG_M1', 'PRUEBA_REG_M2', 'FORMA_REG_M2', 'CORRECTAS_REG_M2', 'ERRADAS_REG_M2', 'OMITIDAS_REG_M2', 'PRUEBA_REG_HCS', 'FORMA_REG_HCS', 'CORRECTAS_REG_HCS', 'ERRADAS_REG_HCS', 'OMITIDAS_REG_HCS', 'PRUEBA_REG_CBIO', 'FORMA_REG_CBIO', 'CORRECTAS_REG_CBIO', 'ERRADAS_REG_CBIO', 'OMITIDAS_REG_CBIO', 'PRUEBA_REG_CFIS', 'FORMA_REG_CFIS', 'CORRECTAS_REG_CFIS', 'ERRADAS_REG_CFIS', 'OMITIDAS_REG_CFIS', 'PRUEBA_REG_CQUI', 'FORMA_REG_CQUI', 'CORRECTAS_REG_CQUI', 'ERRADAS_REG_CQUI', 'OMITIDAS_REG_CQUI', 'PRUEBA_REG_CTP', 'FORMA_REG_CTP', 'CORRECTAS_REG_CTP', 'ERRADAS_REG_CTP', 'OMITIDAS_REG_CTP', 'PRUEBA_INV_CL', 'FORMA_INV_CL', 'CORRECTAS_INV_CL', 'ERRADAS_INV_CL', 'OMITIDAS_INV_CL', 'PRUEBA_INV_M1', 'FORMA_INV_M1', 'CORRECTAS_INV_M1', 'ERRADAS_INV_M1', 'OMITIDAS_INV_M1', 'PRUEBA_INV_M2', 'FORMA_INV_M2', 'CORRECTAS_INV_M2', 'ERRADAS_INV_M2', 'OMITIDAS_INV_M2', 'PRUEBA_INV_HCS', 'FORMA_INV_HCS', 'CORRECTAS_INV_HCS', 'ERRADAS_INV_HCS', 'OMITIDAS_INV_HCS', 'PRUEBA_INV_CBIO', 'FORMA_INV_CBIO', 'CORRECTAS_INV_CBIO', 'ERRADAS_INV_CBIO', 'OMITIDAS_INV_CBIO', 'PRUEBA_INV_CFIS', 'FORMA_INV_CFIS', 'CORRECTAS_INV_CFIS', 'ERRADAS_INV_CFIS', 'OMITIDAS_INV_CFIS', 'PRUEBA_INV_CQUI', 'FORMA_INV_CQUI', 'CORRECTAS_INV_CQUI', 'ERRADAS_INV_CQUI', 'OMITIDAS_INV_CQUI', 'PRUEBA_INV_CTP', 'FORMA_INV_CTP', 'CORRECTAS_INV_CTP', 'ERRADAS_INV_CTP', 'OMITIDAS_INV_CTP']\n",
      "['MRUN', 'ANYO_PROCESO', 'CODIGO_REGION_DOMICILIO', 'CODIGO_PROVINCIA_DOMICILIO', 'CODIGO_COMUNA_DOMICILIO', 'NOMBRE_COMUNA_DOMICILIO', 'SEXO', 'FECHA_NACIMIENTO', 'INGRESO_PERCAPITA_GRUPO_FA', 'RAZON_PRINCIPAL_PAES']\n",
      "(275179, 151)\n"
     ]
    },
    {
     "data": {
      "text/html": [
       "<div>\n",
       "<style scoped>\n",
       "    .dataframe tbody tr th:only-of-type {\n",
       "        vertical-align: middle;\n",
       "    }\n",
       "\n",
       "    .dataframe tbody tr th {\n",
       "        vertical-align: top;\n",
       "    }\n",
       "\n",
       "    .dataframe thead th {\n",
       "        text-align: right;\n",
       "    }\n",
       "</style>\n",
       "<table border=\"1\" class=\"dataframe\">\n",
       "  <thead>\n",
       "    <tr style=\"text-align: right;\">\n",
       "      <th></th>\n",
       "      <th>MRUN</th>\n",
       "      <th>ANYO_PROCESO_x</th>\n",
       "      <th>CODIGO_CARRERA</th>\n",
       "      <th>NOMBRE_CARRERA</th>\n",
       "      <th>SEDE</th>\n",
       "      <th>SIGLA_UNIVERSIDAD</th>\n",
       "      <th>PREFERENCIA</th>\n",
       "      <th>PUNTAJE_PONDERADO</th>\n",
       "      <th>LUGAR_EN_LA_LISTA</th>\n",
       "      <th>VIA_INGRESO</th>\n",
       "      <th>...</th>\n",
       "      <th>CODIGO_PROVINCIA_DOMICILIO</th>\n",
       "      <th>CODIGO_COMUNA_DOMICILIO</th>\n",
       "      <th>NOMBRE_COMUNA_DOMICILIO</th>\n",
       "      <th>SEXO</th>\n",
       "      <th>FECHA_NACIMIENTO_y</th>\n",
       "      <th>INGRESO_PERCAPITA_GRUPO_FA</th>\n",
       "      <th>RAZON_PRINCIPAL_PAES</th>\n",
       "      <th>year</th>\n",
       "      <th>MATE1_INV_ANTERIOR</th>\n",
       "      <th>MATE2_INV_ANTERIOR</th>\n",
       "    </tr>\n",
       "  </thead>\n",
       "  <tbody>\n",
       "    <tr>\n",
       "      <th>0</th>\n",
       "      <td>26105337</td>\n",
       "      <td>2024</td>\n",
       "      <td>41060</td>\n",
       "      <td>ODONTOLOGIA</td>\n",
       "      <td>SANTIAGO</td>\n",
       "      <td>UNAB</td>\n",
       "      <td>2</td>\n",
       "      <td>745,35</td>\n",
       "      <td>61</td>\n",
       "      <td>1</td>\n",
       "      <td>...</td>\n",
       "      <td>131.0</td>\n",
       "      <td>13122.0</td>\n",
       "      <td>PEÑALOLEN</td>\n",
       "      <td>2.0</td>\n",
       "      <td>200208.0</td>\n",
       "      <td>2.0</td>\n",
       "      <td>3</td>\n",
       "      <td>2024</td>\n",
       "      <td>NaN</td>\n",
       "      <td>NaN</td>\n",
       "    </tr>\n",
       "    <tr>\n",
       "      <th>1</th>\n",
       "      <td>26526290</td>\n",
       "      <td>2024</td>\n",
       "      <td>47201</td>\n",
       "      <td>INGENIERÍA CIVIL</td>\n",
       "      <td>CAMPUS RANCAGUA</td>\n",
       "      <td>UOH</td>\n",
       "      <td>1</td>\n",
       "      <td>681,5</td>\n",
       "      <td>143</td>\n",
       "      <td>1</td>\n",
       "      <td>...</td>\n",
       "      <td>61.0</td>\n",
       "      <td>6101.0</td>\n",
       "      <td>RANCAGUA</td>\n",
       "      <td>1.0</td>\n",
       "      <td>200312.0</td>\n",
       "      <td>99.0</td>\n",
       "      <td>3</td>\n",
       "      <td>2024</td>\n",
       "      <td>NaN</td>\n",
       "      <td>NaN</td>\n",
       "    </tr>\n",
       "    <tr>\n",
       "      <th>2</th>\n",
       "      <td>26525888</td>\n",
       "      <td>2024</td>\n",
       "      <td>41136</td>\n",
       "      <td>INGENIERIA EN TURISMO Y HOTELERIA</td>\n",
       "      <td>VIÑA DEL MAR</td>\n",
       "      <td>UNAB</td>\n",
       "      <td>1</td>\n",
       "      <td>571,9</td>\n",
       "      <td>21</td>\n",
       "      <td>1</td>\n",
       "      <td>...</td>\n",
       "      <td>51.0</td>\n",
       "      <td>5101.0</td>\n",
       "      <td>VALPARAISO</td>\n",
       "      <td>2.0</td>\n",
       "      <td>200301.0</td>\n",
       "      <td>99.0</td>\n",
       "      <td>3</td>\n",
       "      <td>2024</td>\n",
       "      <td>NaN</td>\n",
       "      <td>NaN</td>\n",
       "    </tr>\n",
       "    <tr>\n",
       "      <th>3</th>\n",
       "      <td>2839672</td>\n",
       "      <td>2024</td>\n",
       "      <td>12015</td>\n",
       "      <td>TEOLOGÍA</td>\n",
       "      <td>SANTIAGO</td>\n",
       "      <td>UC</td>\n",
       "      <td>0</td>\n",
       "      <td>0</td>\n",
       "      <td>0</td>\n",
       "      <td>7</td>\n",
       "      <td>...</td>\n",
       "      <td>NaN</td>\n",
       "      <td>NaN</td>\n",
       "      <td>NaN</td>\n",
       "      <td>NaN</td>\n",
       "      <td>NaN</td>\n",
       "      <td>NaN</td>\n",
       "      <td>NaN</td>\n",
       "      <td>2024</td>\n",
       "      <td>NaN</td>\n",
       "      <td>NaN</td>\n",
       "    </tr>\n",
       "    <tr>\n",
       "      <th>4</th>\n",
       "      <td>5829896</td>\n",
       "      <td>2024</td>\n",
       "      <td>33035</td>\n",
       "      <td>TRABAJO SOCIAL</td>\n",
       "      <td>PUNTA ARENAS</td>\n",
       "      <td>UMAG</td>\n",
       "      <td>0</td>\n",
       "      <td>0</td>\n",
       "      <td>0</td>\n",
       "      <td>7</td>\n",
       "      <td>...</td>\n",
       "      <td>NaN</td>\n",
       "      <td>NaN</td>\n",
       "      <td>NaN</td>\n",
       "      <td>NaN</td>\n",
       "      <td>NaN</td>\n",
       "      <td>NaN</td>\n",
       "      <td>NaN</td>\n",
       "      <td>2024</td>\n",
       "      <td>NaN</td>\n",
       "      <td>NaN</td>\n",
       "    </tr>\n",
       "  </tbody>\n",
       "</table>\n",
       "<p>5 rows × 151 columns</p>\n",
       "</div>"
      ],
      "text/plain": [
       "       MRUN  ANYO_PROCESO_x  CODIGO_CARRERA  \\\n",
       "0  26105337            2024           41060   \n",
       "1  26526290            2024           47201   \n",
       "2  26525888            2024           41136   \n",
       "3   2839672            2024           12015   \n",
       "4   5829896            2024           33035   \n",
       "\n",
       "                      NOMBRE_CARRERA             SEDE SIGLA_UNIVERSIDAD  \\\n",
       "0                        ODONTOLOGIA         SANTIAGO              UNAB   \n",
       "1                   INGENIERÍA CIVIL  CAMPUS RANCAGUA               UOH   \n",
       "2  INGENIERIA EN TURISMO Y HOTELERIA     VIÑA DEL MAR              UNAB   \n",
       "3                           TEOLOGÍA         SANTIAGO                UC   \n",
       "4                     TRABAJO SOCIAL     PUNTA ARENAS              UMAG   \n",
       "\n",
       "   PREFERENCIA PUNTAJE_PONDERADO  LUGAR_EN_LA_LISTA  VIA_INGRESO  ...  \\\n",
       "0            2            745,35                 61            1  ...   \n",
       "1            1             681,5                143            1  ...   \n",
       "2            1             571,9                 21            1  ...   \n",
       "3            0                 0                  0            7  ...   \n",
       "4            0                 0                  0            7  ...   \n",
       "\n",
       "   CODIGO_PROVINCIA_DOMICILIO  CODIGO_COMUNA_DOMICILIO  \\\n",
       "0                       131.0                  13122.0   \n",
       "1                        61.0                   6101.0   \n",
       "2                        51.0                   5101.0   \n",
       "3                         NaN                      NaN   \n",
       "4                         NaN                      NaN   \n",
       "\n",
       "   NOMBRE_COMUNA_DOMICILIO SEXO FECHA_NACIMIENTO_y INGRESO_PERCAPITA_GRUPO_FA  \\\n",
       "0                PEÑALOLEN  2.0           200208.0                        2.0   \n",
       "1                 RANCAGUA  1.0           200312.0                       99.0   \n",
       "2               VALPARAISO  2.0           200301.0                       99.0   \n",
       "3                      NaN  NaN                NaN                        NaN   \n",
       "4                      NaN  NaN                NaN                        NaN   \n",
       "\n",
       "  RAZON_PRINCIPAL_PAES  year MATE1_INV_ANTERIOR MATE2_INV_ANTERIOR  \n",
       "0                    3  2024                NaN                NaN  \n",
       "1                    3  2024                NaN                NaN  \n",
       "2                    3  2024                NaN                NaN  \n",
       "3                  NaN  2024                NaN                NaN  \n",
       "4                  NaN  2024                NaN                NaN  \n",
       "\n",
       "[5 rows x 151 columns]"
      ]
     },
     "execution_count": 30,
     "metadata": {},
     "output_type": "execute_result"
    }
   ],
   "source": [
    "base_path = \"data\"\n",
    "\n",
    "years = [\"2024\", \"2025\"]\n",
    "\n",
    "dfs_anuales = []\n",
    "\n",
    "for year in years:\n",
    "    print(year)\n",
    "    folder = os.path.join(base_path, year)\n",
    "    \n",
    "    matricula = pd.read_csv(os.path.join(folder, \"matricula.csv\"), sep=\";\")\n",
    "    print(list(matricula.columns))\n",
    "    inscritos = pd.read_csv(os.path.join(folder, \"inscritos_paes.csv\"), sep=\";\")\n",
    "    print(list(inscritos.columns))\n",
    "    socioeco = pd.read_csv(os.path.join(folder, \"socioeconomico.csv\"), sep=\";\")\n",
    "    print(list(socioeco.columns))\n",
    "\n",
    "    df_year = (\n",
    "        matricula\n",
    "        .merge(inscritos, on=\"MRUN\", how=\"left\")\n",
    "        .merge(socioeco, on=\"MRUN\", how=\"left\")\n",
    "    )\n",
    "    \n",
    "    df_year[\"year\"] = year\n",
    "\n",
    "    dfs_anuales.append(df_year)\n",
    "\n",
    "df_total = pd.concat(dfs_anuales, ignore_index=True)\n",
    "\n",
    "print(df_total.shape)\n",
    "df_total.head()\n"
   ]
  },
  {
   "cell_type": "code",
   "execution_count": 33,
   "id": "b4747e39",
   "metadata": {},
   "outputs": [],
   "source": [
    "df_total.to_csv(os.path.join(\"data\", \"trayectorias_educativas.csv\"), index=False)"
   ]
  }
 ],
 "metadata": {
  "kernelspec": {
   "display_name": "Python 3",
   "language": "python",
   "name": "python3"
  },
  "language_info": {
   "codemirror_mode": {
    "name": "ipython",
    "version": 3
   },
   "file_extension": ".py",
   "mimetype": "text/x-python",
   "name": "python",
   "nbconvert_exporter": "python",
   "pygments_lexer": "ipython3",
   "version": "3.13.5"
  }
 },
 "nbformat": 4,
 "nbformat_minor": 5
}
